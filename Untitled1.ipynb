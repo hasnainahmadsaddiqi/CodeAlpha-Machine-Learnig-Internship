{
  "nbformat": 4,
  "nbformat_minor": 0,
  "metadata": {
    "colab": {
      "provenance": []
    },
    "kernelspec": {
      "name": "python3",
      "display_name": "Python 3"
    },
    "language_info": {
      "name": "python"
    }
  },
  "cells": [
    {
      "cell_type": "code",
      "execution_count": 48,
      "metadata": {
        "id": "5eLK6wGsI0cv"
      },
      "outputs": [],
      "source": [
        "import pandas as pd"
      ]
    },
    {
      "cell_type": "code",
      "source": [
        "df = pd.read_csv(\"spotify_millsongdata.csv\")"
      ],
      "metadata": {
        "id": "8XMpbvZPJlCn"
      },
      "execution_count": 49,
      "outputs": []
    },
    {
      "cell_type": "code",
      "source": [
        "df.head()"
      ],
      "metadata": {
        "colab": {
          "base_uri": "https://localhost:8080/",
          "height": 519
        },
        "id": "1HprlZBmJ0UF",
        "outputId": "e847807a-2e55-4ad8-f1dc-72d02e7b493f"
      },
      "execution_count": 50,
      "outputs": [
        {
          "output_type": "execute_result",
          "data": {
            "text/plain": [
              "  artist                   song                                        link  \\\n",
              "0   ABBA  Ahe's My Kind Of Girl  /a/abba/ahes+my+kind+of+girl_20598417.html   \n",
              "1   ABBA       Andante, Andante       /a/abba/andante+andante_20002708.html   \n",
              "2   ABBA         As Good As New        /a/abba/as+good+as+new_20003033.html   \n",
              "3   ABBA                   Bang                  /a/abba/bang_20598415.html   \n",
              "4   ABBA       Bang-A-Boomerang      /a/abba/bang+a+boomerang_20002668.html   \n",
              "\n",
              "                                                text  \n",
              "0  Look at her face, it's a wonderful face  \\r\\nA...  \n",
              "1  Take it easy with me, please  \\r\\nTouch me gen...  \n",
              "2  I'll never know why I had to go  \\r\\nWhy I had...  \n",
              "3  Making somebody happy is a question of give an...  \n",
              "4  Making somebody happy is a question of give an...  "
            ],
            "text/html": [
              "\n",
              "  <div id=\"df-4e895002-ea05-42ca-b418-3eb1454b3a57\" class=\"colab-df-container\">\n",
              "    <div>\n",
              "<style scoped>\n",
              "    .dataframe tbody tr th:only-of-type {\n",
              "        vertical-align: middle;\n",
              "    }\n",
              "\n",
              "    .dataframe tbody tr th {\n",
              "        vertical-align: top;\n",
              "    }\n",
              "\n",
              "    .dataframe thead th {\n",
              "        text-align: right;\n",
              "    }\n",
              "</style>\n",
              "<table border=\"1\" class=\"dataframe\">\n",
              "  <thead>\n",
              "    <tr style=\"text-align: right;\">\n",
              "      <th></th>\n",
              "      <th>artist</th>\n",
              "      <th>song</th>\n",
              "      <th>link</th>\n",
              "      <th>text</th>\n",
              "    </tr>\n",
              "  </thead>\n",
              "  <tbody>\n",
              "    <tr>\n",
              "      <th>0</th>\n",
              "      <td>ABBA</td>\n",
              "      <td>Ahe's My Kind Of Girl</td>\n",
              "      <td>/a/abba/ahes+my+kind+of+girl_20598417.html</td>\n",
              "      <td>Look at her face, it's a wonderful face  \\r\\nA...</td>\n",
              "    </tr>\n",
              "    <tr>\n",
              "      <th>1</th>\n",
              "      <td>ABBA</td>\n",
              "      <td>Andante, Andante</td>\n",
              "      <td>/a/abba/andante+andante_20002708.html</td>\n",
              "      <td>Take it easy with me, please  \\r\\nTouch me gen...</td>\n",
              "    </tr>\n",
              "    <tr>\n",
              "      <th>2</th>\n",
              "      <td>ABBA</td>\n",
              "      <td>As Good As New</td>\n",
              "      <td>/a/abba/as+good+as+new_20003033.html</td>\n",
              "      <td>I'll never know why I had to go  \\r\\nWhy I had...</td>\n",
              "    </tr>\n",
              "    <tr>\n",
              "      <th>3</th>\n",
              "      <td>ABBA</td>\n",
              "      <td>Bang</td>\n",
              "      <td>/a/abba/bang_20598415.html</td>\n",
              "      <td>Making somebody happy is a question of give an...</td>\n",
              "    </tr>\n",
              "    <tr>\n",
              "      <th>4</th>\n",
              "      <td>ABBA</td>\n",
              "      <td>Bang-A-Boomerang</td>\n",
              "      <td>/a/abba/bang+a+boomerang_20002668.html</td>\n",
              "      <td>Making somebody happy is a question of give an...</td>\n",
              "    </tr>\n",
              "  </tbody>\n",
              "</table>\n",
              "</div>\n",
              "    <div class=\"colab-df-buttons\">\n",
              "\n",
              "  <div class=\"colab-df-container\">\n",
              "    <button class=\"colab-df-convert\" onclick=\"convertToInteractive('df-4e895002-ea05-42ca-b418-3eb1454b3a57')\"\n",
              "            title=\"Convert this dataframe to an interactive table.\"\n",
              "            style=\"display:none;\">\n",
              "\n",
              "  <svg xmlns=\"http://www.w3.org/2000/svg\" height=\"24px\" viewBox=\"0 -960 960 960\">\n",
              "    <path d=\"M120-120v-720h720v720H120Zm60-500h600v-160H180v160Zm220 220h160v-160H400v160Zm0 220h160v-160H400v160ZM180-400h160v-160H180v160Zm440 0h160v-160H620v160ZM180-180h160v-160H180v160Zm440 0h160v-160H620v160Z\"/>\n",
              "  </svg>\n",
              "    </button>\n",
              "\n",
              "  <style>\n",
              "    .colab-df-container {\n",
              "      display:flex;\n",
              "      gap: 12px;\n",
              "    }\n",
              "\n",
              "    .colab-df-convert {\n",
              "      background-color: #E8F0FE;\n",
              "      border: none;\n",
              "      border-radius: 50%;\n",
              "      cursor: pointer;\n",
              "      display: none;\n",
              "      fill: #1967D2;\n",
              "      height: 32px;\n",
              "      padding: 0 0 0 0;\n",
              "      width: 32px;\n",
              "    }\n",
              "\n",
              "    .colab-df-convert:hover {\n",
              "      background-color: #E2EBFA;\n",
              "      box-shadow: 0px 1px 2px rgba(60, 64, 67, 0.3), 0px 1px 3px 1px rgba(60, 64, 67, 0.15);\n",
              "      fill: #174EA6;\n",
              "    }\n",
              "\n",
              "    .colab-df-buttons div {\n",
              "      margin-bottom: 4px;\n",
              "    }\n",
              "\n",
              "    [theme=dark] .colab-df-convert {\n",
              "      background-color: #3B4455;\n",
              "      fill: #D2E3FC;\n",
              "    }\n",
              "\n",
              "    [theme=dark] .colab-df-convert:hover {\n",
              "      background-color: #434B5C;\n",
              "      box-shadow: 0px 1px 3px 1px rgba(0, 0, 0, 0.15);\n",
              "      filter: drop-shadow(0px 1px 2px rgba(0, 0, 0, 0.3));\n",
              "      fill: #FFFFFF;\n",
              "    }\n",
              "  </style>\n",
              "\n",
              "    <script>\n",
              "      const buttonEl =\n",
              "        document.querySelector('#df-4e895002-ea05-42ca-b418-3eb1454b3a57 button.colab-df-convert');\n",
              "      buttonEl.style.display =\n",
              "        google.colab.kernel.accessAllowed ? 'block' : 'none';\n",
              "\n",
              "      async function convertToInteractive(key) {\n",
              "        const element = document.querySelector('#df-4e895002-ea05-42ca-b418-3eb1454b3a57');\n",
              "        const dataTable =\n",
              "          await google.colab.kernel.invokeFunction('convertToInteractive',\n",
              "                                                    [key], {});\n",
              "        if (!dataTable) return;\n",
              "\n",
              "        const docLinkHtml = 'Like what you see? Visit the ' +\n",
              "          '<a target=\"_blank\" href=https://colab.research.google.com/notebooks/data_table.ipynb>data table notebook</a>'\n",
              "          + ' to learn more about interactive tables.';\n",
              "        element.innerHTML = '';\n",
              "        dataTable['output_type'] = 'display_data';\n",
              "        await google.colab.output.renderOutput(dataTable, element);\n",
              "        const docLink = document.createElement('div');\n",
              "        docLink.innerHTML = docLinkHtml;\n",
              "        element.appendChild(docLink);\n",
              "      }\n",
              "    </script>\n",
              "  </div>\n",
              "\n",
              "\n",
              "<div id=\"df-b7f5d88a-bd46-4931-b772-e34b05ce8df1\">\n",
              "  <button class=\"colab-df-quickchart\" onclick=\"quickchart('df-b7f5d88a-bd46-4931-b772-e34b05ce8df1')\"\n",
              "            title=\"Suggest charts\"\n",
              "            style=\"display:none;\">\n",
              "\n",
              "<svg xmlns=\"http://www.w3.org/2000/svg\" height=\"24px\"viewBox=\"0 0 24 24\"\n",
              "     width=\"24px\">\n",
              "    <g>\n",
              "        <path d=\"M19 3H5c-1.1 0-2 .9-2 2v14c0 1.1.9 2 2 2h14c1.1 0 2-.9 2-2V5c0-1.1-.9-2-2-2zM9 17H7v-7h2v7zm4 0h-2V7h2v10zm4 0h-2v-4h2v4z\"/>\n",
              "    </g>\n",
              "</svg>\n",
              "  </button>\n",
              "\n",
              "<style>\n",
              "  .colab-df-quickchart {\n",
              "      --bg-color: #E8F0FE;\n",
              "      --fill-color: #1967D2;\n",
              "      --hover-bg-color: #E2EBFA;\n",
              "      --hover-fill-color: #174EA6;\n",
              "      --disabled-fill-color: #AAA;\n",
              "      --disabled-bg-color: #DDD;\n",
              "  }\n",
              "\n",
              "  [theme=dark] .colab-df-quickchart {\n",
              "      --bg-color: #3B4455;\n",
              "      --fill-color: #D2E3FC;\n",
              "      --hover-bg-color: #434B5C;\n",
              "      --hover-fill-color: #FFFFFF;\n",
              "      --disabled-bg-color: #3B4455;\n",
              "      --disabled-fill-color: #666;\n",
              "  }\n",
              "\n",
              "  .colab-df-quickchart {\n",
              "    background-color: var(--bg-color);\n",
              "    border: none;\n",
              "    border-radius: 50%;\n",
              "    cursor: pointer;\n",
              "    display: none;\n",
              "    fill: var(--fill-color);\n",
              "    height: 32px;\n",
              "    padding: 0;\n",
              "    width: 32px;\n",
              "  }\n",
              "\n",
              "  .colab-df-quickchart:hover {\n",
              "    background-color: var(--hover-bg-color);\n",
              "    box-shadow: 0 1px 2px rgba(60, 64, 67, 0.3), 0 1px 3px 1px rgba(60, 64, 67, 0.15);\n",
              "    fill: var(--button-hover-fill-color);\n",
              "  }\n",
              "\n",
              "  .colab-df-quickchart-complete:disabled,\n",
              "  .colab-df-quickchart-complete:disabled:hover {\n",
              "    background-color: var(--disabled-bg-color);\n",
              "    fill: var(--disabled-fill-color);\n",
              "    box-shadow: none;\n",
              "  }\n",
              "\n",
              "  .colab-df-spinner {\n",
              "    border: 2px solid var(--fill-color);\n",
              "    border-color: transparent;\n",
              "    border-bottom-color: var(--fill-color);\n",
              "    animation:\n",
              "      spin 1s steps(1) infinite;\n",
              "  }\n",
              "\n",
              "  @keyframes spin {\n",
              "    0% {\n",
              "      border-color: transparent;\n",
              "      border-bottom-color: var(--fill-color);\n",
              "      border-left-color: var(--fill-color);\n",
              "    }\n",
              "    20% {\n",
              "      border-color: transparent;\n",
              "      border-left-color: var(--fill-color);\n",
              "      border-top-color: var(--fill-color);\n",
              "    }\n",
              "    30% {\n",
              "      border-color: transparent;\n",
              "      border-left-color: var(--fill-color);\n",
              "      border-top-color: var(--fill-color);\n",
              "      border-right-color: var(--fill-color);\n",
              "    }\n",
              "    40% {\n",
              "      border-color: transparent;\n",
              "      border-right-color: var(--fill-color);\n",
              "      border-top-color: var(--fill-color);\n",
              "    }\n",
              "    60% {\n",
              "      border-color: transparent;\n",
              "      border-right-color: var(--fill-color);\n",
              "    }\n",
              "    80% {\n",
              "      border-color: transparent;\n",
              "      border-right-color: var(--fill-color);\n",
              "      border-bottom-color: var(--fill-color);\n",
              "    }\n",
              "    90% {\n",
              "      border-color: transparent;\n",
              "      border-bottom-color: var(--fill-color);\n",
              "    }\n",
              "  }\n",
              "</style>\n",
              "\n",
              "  <script>\n",
              "    async function quickchart(key) {\n",
              "      const quickchartButtonEl =\n",
              "        document.querySelector('#' + key + ' button');\n",
              "      quickchartButtonEl.disabled = true;  // To prevent multiple clicks.\n",
              "      quickchartButtonEl.classList.add('colab-df-spinner');\n",
              "      try {\n",
              "        const charts = await google.colab.kernel.invokeFunction(\n",
              "            'suggestCharts', [key], {});\n",
              "      } catch (error) {\n",
              "        console.error('Error during call to suggestCharts:', error);\n",
              "      }\n",
              "      quickchartButtonEl.classList.remove('colab-df-spinner');\n",
              "      quickchartButtonEl.classList.add('colab-df-quickchart-complete');\n",
              "    }\n",
              "    (() => {\n",
              "      let quickchartButtonEl =\n",
              "        document.querySelector('#df-b7f5d88a-bd46-4931-b772-e34b05ce8df1 button');\n",
              "      quickchartButtonEl.style.display =\n",
              "        google.colab.kernel.accessAllowed ? 'block' : 'none';\n",
              "    })();\n",
              "  </script>\n",
              "</div>\n",
              "\n",
              "    </div>\n",
              "  </div>\n"
            ],
            "application/vnd.google.colaboratory.intrinsic+json": {
              "type": "dataframe",
              "variable_name": "df",
              "summary": "{\n  \"name\": \"df\",\n  \"rows\": 57650,\n  \"fields\": [\n    {\n      \"column\": \"artist\",\n      \"properties\": {\n        \"dtype\": \"category\",\n        \"num_unique_values\": 643,\n        \"samples\": [\n          \"Ziggy Marley\",\n          \"O.A.R.\",\n          \"Styx\"\n        ],\n        \"semantic_type\": \"\",\n        \"description\": \"\"\n      }\n    },\n    {\n      \"column\": \"song\",\n      \"properties\": {\n        \"dtype\": \"string\",\n        \"num_unique_values\": 44824,\n        \"samples\": [\n          \"Tear Me Down\",\n          \"Lakky Lady\",\n          \"They All Went To Mexico\"\n        ],\n        \"semantic_type\": \"\",\n        \"description\": \"\"\n      }\n    },\n    {\n      \"column\": \"link\",\n      \"properties\": {\n        \"dtype\": \"string\",\n        \"num_unique_values\": 57650,\n        \"samples\": [\n          \"/w/wishbone+ash/right+or+wrong_20147150.html\",\n          \"/a/aerosmith/this+little+light+of+mine_20644484.html\",\n          \"/f/fall+out+boy/dance+dance_10113666.html\"\n        ],\n        \"semantic_type\": \"\",\n        \"description\": \"\"\n      }\n    },\n    {\n      \"column\": \"text\",\n      \"properties\": {\n        \"dtype\": \"string\",\n        \"num_unique_values\": 57494,\n        \"samples\": [\n          \"When the grey skies turn to blue  \\r\\nAnd the dark clouds blow away  \\r\\nIn the morning of a new life  \\r\\nWhen the sun comes shining through  \\r\\nWhen the grey skies turn to blue  \\r\\nIn the morning of a new life  \\r\\nWhen the sun comes shining through  \\r\\nWhen the grey skies turn to blue  \\r\\nMeet me on a bright and windy day  \\r\\nWhen the breeze has blown  \\r\\nThe gray skies far away  \\r\\nHigh upon a hillside  \\r\\nWhen the sun comes shining through  \\r\\nAnd the grey skies turn to blue  \\r\\nWhen the grey skies turn to blue  \\r\\nWhen the grey skies turn to blue  \\r\\n\\r\\n\",\n          \"I met a girl a wonderful girl  \\r\\nWho's really got a lot to recommend her for a girl  \\r\\nFabulous creature without any doubt  \\r\\nHey what am I getting so excited about  \\r\\nShe's just a girl an everyday girl  \\r\\nAnd yet I guess she's really rather special for a girl  \\r\\nFor once you've seen her the others are not  \\r\\nHey what am I getting so excited about  \\r\\nBut so what what has she got others have not  \\r\\nTwo eyes two lips a nose all girls have some of those  \\r\\nBut when she looks up at me what do I see  \\r\\nThe most enchanting face my pulse begins to race  \\r\\nHey I met a girl a marvelous girl  \\r\\nShe rarer than uranium and fairer than a pearl  \\r\\nFound me a treasure and I want to shout  \\r\\nHey what am I getting so excited about  \\r\\nBut so what what has she got others have not  \\r\\nTwo eyes two lips a nose all girls have some of those  \\r\\nBut when she looks up at me what do I see  \\r\\nThe most enchanting face my pulse begins to race  \\r\\n(I got a girl a marvelous girl)  \\r\\n(She rarer than uranium and fairer than a pearl)  \\r\\nFound me a treasure and I want to shout  \\r\\nThis is what am I getting so excited about  \\r\\n(He met a girl) and I fell in love today\\r\\n\\r\\n\",\n          \"She's over by the corner  \\r\\nGot her hands by her sides  \\r\\nThey hit her harder harder harder  \\r\\nTill they thought she might die  \\r\\n  \\r\\nWell I got a foggy notion,  \\r\\nDo it again  \\r\\nOver by the corner,  \\r\\nDo it again  \\r\\nI got my calamine lotion baby,  \\r\\nDo it again  \\r\\nI got a foggy notion,  \\r\\nDo it again  \\r\\n  \\r\\nShe made me do something  \\r\\nThat I never did before  \\r\\nI rushed right down  \\r\\nTo a flower store  \\r\\nI bought her a bundle  \\r\\nA beautiful batch  \\r\\nDon't you know something,  \\r\\nShe sent 'em right back  \\r\\n  \\r\\nSally Mae, Sally Mae,  \\r\\nSally Mae, Sally Mae  \\r\\nSally Mae, Sally Mae,  \\r\\nSally Mae, Sally Mae\\r\\n\\r\\n\"\n        ],\n        \"semantic_type\": \"\",\n        \"description\": \"\"\n      }\n    }\n  ]\n}"
            }
          },
          "metadata": {},
          "execution_count": 50
        }
      ]
    },
    {
      "cell_type": "code",
      "source": [
        "df.shape"
      ],
      "metadata": {
        "colab": {
          "base_uri": "https://localhost:8080/"
        },
        "id": "8ROoCcWGNX_b",
        "outputId": "4bb61e65-f5c4-48e2-e94b-91e0df0a3602"
      },
      "execution_count": 51,
      "outputs": [
        {
          "output_type": "execute_result",
          "data": {
            "text/plain": [
              "(57650, 4)"
            ]
          },
          "metadata": {},
          "execution_count": 51
        }
      ]
    },
    {
      "cell_type": "code",
      "source": [
        "df.isnull().sum()"
      ],
      "metadata": {
        "colab": {
          "base_uri": "https://localhost:8080/"
        },
        "id": "1TbCFZ-2NhZw",
        "outputId": "703fe62e-e3e1-44ed-f56e-6a60fdfd1de6"
      },
      "execution_count": 52,
      "outputs": [
        {
          "output_type": "execute_result",
          "data": {
            "text/plain": [
              "artist    0\n",
              "song      0\n",
              "link      0\n",
              "text      0\n",
              "dtype: int64"
            ]
          },
          "metadata": {},
          "execution_count": 52
        }
      ]
    },
    {
      "cell_type": "code",
      "source": [
        "df = df.sample(5000).drop(\"link\", axis = 1).reset_index(drop=True)\n",
        "df"
      ],
      "metadata": {
        "colab": {
          "base_uri": "https://localhost:8080/",
          "height": 597
        },
        "id": "lrWH-0wfNm0P",
        "outputId": "a31ffe55-8929-4a84-e4b7-f1049576d088"
      },
      "execution_count": 53,
      "outputs": [
        {
          "output_type": "execute_result",
          "data": {
            "text/plain": [
              "              artist                                 song  \\\n",
              "0       Donna Summer  Journey To The Center Of Your Heart   \n",
              "1          Tom Jones                         Strange Boat   \n",
              "2        The Killers        Glamorous Indie Rock And Roll   \n",
              "3     David Pomeranz            I Learned It All From You   \n",
              "4          Pearl Jam                         Severed Hand   \n",
              "...              ...                                  ...   \n",
              "4995            Ween                    Even If You Don't   \n",
              "4996     Fiona Apple                             Get Gone   \n",
              "4997  Kirsty Maccoll                       Camel Crossing   \n",
              "4998    Lana Del Rey                       Dangerous Girl   \n",
              "4999    Richard Marx                            Superstar   \n",
              "\n",
              "                                                   text  \n",
              "0     Take me on a journey  \\r\\nOn a journey to the ...  \n",
              "1     We're sailing on a strange boat  \\r\\nHeading f...  \n",
              "2     Glamorous  \\r\\nIndie rock'n'roll is what I wan...  \n",
              "3     I was a man of convinction  \\r\\nItchin' in pur...  \n",
              "4     Big man stands behind an open door  \\r\\nSaid, ...  \n",
              "...                                                 ...  \n",
              "4995  I'm goin' crazy trying to keep you sane  \\r\\nT...  \n",
              "4996  How many times do I have to say  \\r\\nTo get aw...  \n",
              "4997  In a dream of a desolate land  \\r\\nFinding my ...  \n",
              "4998  He's my drugstore cowboy,  \\r\\nItalian aloic, ...  \n",
              "4999  You're the queen of your own little  \\r\\nWorld...  \n",
              "\n",
              "[5000 rows x 3 columns]"
            ],
            "text/html": [
              "\n",
              "  <div id=\"df-e8684937-b4c4-4ba7-99d9-5cbec4ffa1bd\" class=\"colab-df-container\">\n",
              "    <div>\n",
              "<style scoped>\n",
              "    .dataframe tbody tr th:only-of-type {\n",
              "        vertical-align: middle;\n",
              "    }\n",
              "\n",
              "    .dataframe tbody tr th {\n",
              "        vertical-align: top;\n",
              "    }\n",
              "\n",
              "    .dataframe thead th {\n",
              "        text-align: right;\n",
              "    }\n",
              "</style>\n",
              "<table border=\"1\" class=\"dataframe\">\n",
              "  <thead>\n",
              "    <tr style=\"text-align: right;\">\n",
              "      <th></th>\n",
              "      <th>artist</th>\n",
              "      <th>song</th>\n",
              "      <th>text</th>\n",
              "    </tr>\n",
              "  </thead>\n",
              "  <tbody>\n",
              "    <tr>\n",
              "      <th>0</th>\n",
              "      <td>Donna Summer</td>\n",
              "      <td>Journey To The Center Of Your Heart</td>\n",
              "      <td>Take me on a journey  \\r\\nOn a journey to the ...</td>\n",
              "    </tr>\n",
              "    <tr>\n",
              "      <th>1</th>\n",
              "      <td>Tom Jones</td>\n",
              "      <td>Strange Boat</td>\n",
              "      <td>We're sailing on a strange boat  \\r\\nHeading f...</td>\n",
              "    </tr>\n",
              "    <tr>\n",
              "      <th>2</th>\n",
              "      <td>The Killers</td>\n",
              "      <td>Glamorous Indie Rock And Roll</td>\n",
              "      <td>Glamorous  \\r\\nIndie rock'n'roll is what I wan...</td>\n",
              "    </tr>\n",
              "    <tr>\n",
              "      <th>3</th>\n",
              "      <td>David Pomeranz</td>\n",
              "      <td>I Learned It All From You</td>\n",
              "      <td>I was a man of convinction  \\r\\nItchin' in pur...</td>\n",
              "    </tr>\n",
              "    <tr>\n",
              "      <th>4</th>\n",
              "      <td>Pearl Jam</td>\n",
              "      <td>Severed Hand</td>\n",
              "      <td>Big man stands behind an open door  \\r\\nSaid, ...</td>\n",
              "    </tr>\n",
              "    <tr>\n",
              "      <th>...</th>\n",
              "      <td>...</td>\n",
              "      <td>...</td>\n",
              "      <td>...</td>\n",
              "    </tr>\n",
              "    <tr>\n",
              "      <th>4995</th>\n",
              "      <td>Ween</td>\n",
              "      <td>Even If You Don't</td>\n",
              "      <td>I'm goin' crazy trying to keep you sane  \\r\\nT...</td>\n",
              "    </tr>\n",
              "    <tr>\n",
              "      <th>4996</th>\n",
              "      <td>Fiona Apple</td>\n",
              "      <td>Get Gone</td>\n",
              "      <td>How many times do I have to say  \\r\\nTo get aw...</td>\n",
              "    </tr>\n",
              "    <tr>\n",
              "      <th>4997</th>\n",
              "      <td>Kirsty Maccoll</td>\n",
              "      <td>Camel Crossing</td>\n",
              "      <td>In a dream of a desolate land  \\r\\nFinding my ...</td>\n",
              "    </tr>\n",
              "    <tr>\n",
              "      <th>4998</th>\n",
              "      <td>Lana Del Rey</td>\n",
              "      <td>Dangerous Girl</td>\n",
              "      <td>He's my drugstore cowboy,  \\r\\nItalian aloic, ...</td>\n",
              "    </tr>\n",
              "    <tr>\n",
              "      <th>4999</th>\n",
              "      <td>Richard Marx</td>\n",
              "      <td>Superstar</td>\n",
              "      <td>You're the queen of your own little  \\r\\nWorld...</td>\n",
              "    </tr>\n",
              "  </tbody>\n",
              "</table>\n",
              "<p>5000 rows × 3 columns</p>\n",
              "</div>\n",
              "    <div class=\"colab-df-buttons\">\n",
              "\n",
              "  <div class=\"colab-df-container\">\n",
              "    <button class=\"colab-df-convert\" onclick=\"convertToInteractive('df-e8684937-b4c4-4ba7-99d9-5cbec4ffa1bd')\"\n",
              "            title=\"Convert this dataframe to an interactive table.\"\n",
              "            style=\"display:none;\">\n",
              "\n",
              "  <svg xmlns=\"http://www.w3.org/2000/svg\" height=\"24px\" viewBox=\"0 -960 960 960\">\n",
              "    <path d=\"M120-120v-720h720v720H120Zm60-500h600v-160H180v160Zm220 220h160v-160H400v160Zm0 220h160v-160H400v160ZM180-400h160v-160H180v160Zm440 0h160v-160H620v160ZM180-180h160v-160H180v160Zm440 0h160v-160H620v160Z\"/>\n",
              "  </svg>\n",
              "    </button>\n",
              "\n",
              "  <style>\n",
              "    .colab-df-container {\n",
              "      display:flex;\n",
              "      gap: 12px;\n",
              "    }\n",
              "\n",
              "    .colab-df-convert {\n",
              "      background-color: #E8F0FE;\n",
              "      border: none;\n",
              "      border-radius: 50%;\n",
              "      cursor: pointer;\n",
              "      display: none;\n",
              "      fill: #1967D2;\n",
              "      height: 32px;\n",
              "      padding: 0 0 0 0;\n",
              "      width: 32px;\n",
              "    }\n",
              "\n",
              "    .colab-df-convert:hover {\n",
              "      background-color: #E2EBFA;\n",
              "      box-shadow: 0px 1px 2px rgba(60, 64, 67, 0.3), 0px 1px 3px 1px rgba(60, 64, 67, 0.15);\n",
              "      fill: #174EA6;\n",
              "    }\n",
              "\n",
              "    .colab-df-buttons div {\n",
              "      margin-bottom: 4px;\n",
              "    }\n",
              "\n",
              "    [theme=dark] .colab-df-convert {\n",
              "      background-color: #3B4455;\n",
              "      fill: #D2E3FC;\n",
              "    }\n",
              "\n",
              "    [theme=dark] .colab-df-convert:hover {\n",
              "      background-color: #434B5C;\n",
              "      box-shadow: 0px 1px 3px 1px rgba(0, 0, 0, 0.15);\n",
              "      filter: drop-shadow(0px 1px 2px rgba(0, 0, 0, 0.3));\n",
              "      fill: #FFFFFF;\n",
              "    }\n",
              "  </style>\n",
              "\n",
              "    <script>\n",
              "      const buttonEl =\n",
              "        document.querySelector('#df-e8684937-b4c4-4ba7-99d9-5cbec4ffa1bd button.colab-df-convert');\n",
              "      buttonEl.style.display =\n",
              "        google.colab.kernel.accessAllowed ? 'block' : 'none';\n",
              "\n",
              "      async function convertToInteractive(key) {\n",
              "        const element = document.querySelector('#df-e8684937-b4c4-4ba7-99d9-5cbec4ffa1bd');\n",
              "        const dataTable =\n",
              "          await google.colab.kernel.invokeFunction('convertToInteractive',\n",
              "                                                    [key], {});\n",
              "        if (!dataTable) return;\n",
              "\n",
              "        const docLinkHtml = 'Like what you see? Visit the ' +\n",
              "          '<a target=\"_blank\" href=https://colab.research.google.com/notebooks/data_table.ipynb>data table notebook</a>'\n",
              "          + ' to learn more about interactive tables.';\n",
              "        element.innerHTML = '';\n",
              "        dataTable['output_type'] = 'display_data';\n",
              "        await google.colab.output.renderOutput(dataTable, element);\n",
              "        const docLink = document.createElement('div');\n",
              "        docLink.innerHTML = docLinkHtml;\n",
              "        element.appendChild(docLink);\n",
              "      }\n",
              "    </script>\n",
              "  </div>\n",
              "\n",
              "\n",
              "<div id=\"df-61149565-0b70-4e20-84bd-78d71b2c1d23\">\n",
              "  <button class=\"colab-df-quickchart\" onclick=\"quickchart('df-61149565-0b70-4e20-84bd-78d71b2c1d23')\"\n",
              "            title=\"Suggest charts\"\n",
              "            style=\"display:none;\">\n",
              "\n",
              "<svg xmlns=\"http://www.w3.org/2000/svg\" height=\"24px\"viewBox=\"0 0 24 24\"\n",
              "     width=\"24px\">\n",
              "    <g>\n",
              "        <path d=\"M19 3H5c-1.1 0-2 .9-2 2v14c0 1.1.9 2 2 2h14c1.1 0 2-.9 2-2V5c0-1.1-.9-2-2-2zM9 17H7v-7h2v7zm4 0h-2V7h2v10zm4 0h-2v-4h2v4z\"/>\n",
              "    </g>\n",
              "</svg>\n",
              "  </button>\n",
              "\n",
              "<style>\n",
              "  .colab-df-quickchart {\n",
              "      --bg-color: #E8F0FE;\n",
              "      --fill-color: #1967D2;\n",
              "      --hover-bg-color: #E2EBFA;\n",
              "      --hover-fill-color: #174EA6;\n",
              "      --disabled-fill-color: #AAA;\n",
              "      --disabled-bg-color: #DDD;\n",
              "  }\n",
              "\n",
              "  [theme=dark] .colab-df-quickchart {\n",
              "      --bg-color: #3B4455;\n",
              "      --fill-color: #D2E3FC;\n",
              "      --hover-bg-color: #434B5C;\n",
              "      --hover-fill-color: #FFFFFF;\n",
              "      --disabled-bg-color: #3B4455;\n",
              "      --disabled-fill-color: #666;\n",
              "  }\n",
              "\n",
              "  .colab-df-quickchart {\n",
              "    background-color: var(--bg-color);\n",
              "    border: none;\n",
              "    border-radius: 50%;\n",
              "    cursor: pointer;\n",
              "    display: none;\n",
              "    fill: var(--fill-color);\n",
              "    height: 32px;\n",
              "    padding: 0;\n",
              "    width: 32px;\n",
              "  }\n",
              "\n",
              "  .colab-df-quickchart:hover {\n",
              "    background-color: var(--hover-bg-color);\n",
              "    box-shadow: 0 1px 2px rgba(60, 64, 67, 0.3), 0 1px 3px 1px rgba(60, 64, 67, 0.15);\n",
              "    fill: var(--button-hover-fill-color);\n",
              "  }\n",
              "\n",
              "  .colab-df-quickchart-complete:disabled,\n",
              "  .colab-df-quickchart-complete:disabled:hover {\n",
              "    background-color: var(--disabled-bg-color);\n",
              "    fill: var(--disabled-fill-color);\n",
              "    box-shadow: none;\n",
              "  }\n",
              "\n",
              "  .colab-df-spinner {\n",
              "    border: 2px solid var(--fill-color);\n",
              "    border-color: transparent;\n",
              "    border-bottom-color: var(--fill-color);\n",
              "    animation:\n",
              "      spin 1s steps(1) infinite;\n",
              "  }\n",
              "\n",
              "  @keyframes spin {\n",
              "    0% {\n",
              "      border-color: transparent;\n",
              "      border-bottom-color: var(--fill-color);\n",
              "      border-left-color: var(--fill-color);\n",
              "    }\n",
              "    20% {\n",
              "      border-color: transparent;\n",
              "      border-left-color: var(--fill-color);\n",
              "      border-top-color: var(--fill-color);\n",
              "    }\n",
              "    30% {\n",
              "      border-color: transparent;\n",
              "      border-left-color: var(--fill-color);\n",
              "      border-top-color: var(--fill-color);\n",
              "      border-right-color: var(--fill-color);\n",
              "    }\n",
              "    40% {\n",
              "      border-color: transparent;\n",
              "      border-right-color: var(--fill-color);\n",
              "      border-top-color: var(--fill-color);\n",
              "    }\n",
              "    60% {\n",
              "      border-color: transparent;\n",
              "      border-right-color: var(--fill-color);\n",
              "    }\n",
              "    80% {\n",
              "      border-color: transparent;\n",
              "      border-right-color: var(--fill-color);\n",
              "      border-bottom-color: var(--fill-color);\n",
              "    }\n",
              "    90% {\n",
              "      border-color: transparent;\n",
              "      border-bottom-color: var(--fill-color);\n",
              "    }\n",
              "  }\n",
              "</style>\n",
              "\n",
              "  <script>\n",
              "    async function quickchart(key) {\n",
              "      const quickchartButtonEl =\n",
              "        document.querySelector('#' + key + ' button');\n",
              "      quickchartButtonEl.disabled = true;  // To prevent multiple clicks.\n",
              "      quickchartButtonEl.classList.add('colab-df-spinner');\n",
              "      try {\n",
              "        const charts = await google.colab.kernel.invokeFunction(\n",
              "            'suggestCharts', [key], {});\n",
              "      } catch (error) {\n",
              "        console.error('Error during call to suggestCharts:', error);\n",
              "      }\n",
              "      quickchartButtonEl.classList.remove('colab-df-spinner');\n",
              "      quickchartButtonEl.classList.add('colab-df-quickchart-complete');\n",
              "    }\n",
              "    (() => {\n",
              "      let quickchartButtonEl =\n",
              "        document.querySelector('#df-61149565-0b70-4e20-84bd-78d71b2c1d23 button');\n",
              "      quickchartButtonEl.style.display =\n",
              "        google.colab.kernel.accessAllowed ? 'block' : 'none';\n",
              "    })();\n",
              "  </script>\n",
              "</div>\n",
              "\n",
              "  <div id=\"id_773cd9ec-c125-49b3-b77b-4cfca85ecc07\">\n",
              "    <style>\n",
              "      .colab-df-generate {\n",
              "        background-color: #E8F0FE;\n",
              "        border: none;\n",
              "        border-radius: 50%;\n",
              "        cursor: pointer;\n",
              "        display: none;\n",
              "        fill: #1967D2;\n",
              "        height: 32px;\n",
              "        padding: 0 0 0 0;\n",
              "        width: 32px;\n",
              "      }\n",
              "\n",
              "      .colab-df-generate:hover {\n",
              "        background-color: #E2EBFA;\n",
              "        box-shadow: 0px 1px 2px rgba(60, 64, 67, 0.3), 0px 1px 3px 1px rgba(60, 64, 67, 0.15);\n",
              "        fill: #174EA6;\n",
              "      }\n",
              "\n",
              "      [theme=dark] .colab-df-generate {\n",
              "        background-color: #3B4455;\n",
              "        fill: #D2E3FC;\n",
              "      }\n",
              "\n",
              "      [theme=dark] .colab-df-generate:hover {\n",
              "        background-color: #434B5C;\n",
              "        box-shadow: 0px 1px 3px 1px rgba(0, 0, 0, 0.15);\n",
              "        filter: drop-shadow(0px 1px 2px rgba(0, 0, 0, 0.3));\n",
              "        fill: #FFFFFF;\n",
              "      }\n",
              "    </style>\n",
              "    <button class=\"colab-df-generate\" onclick=\"generateWithVariable('df')\"\n",
              "            title=\"Generate code using this dataframe.\"\n",
              "            style=\"display:none;\">\n",
              "\n",
              "  <svg xmlns=\"http://www.w3.org/2000/svg\" height=\"24px\"viewBox=\"0 0 24 24\"\n",
              "       width=\"24px\">\n",
              "    <path d=\"M7,19H8.4L18.45,9,17,7.55,7,17.6ZM5,21V16.75L18.45,3.32a2,2,0,0,1,2.83,0l1.4,1.43a1.91,1.91,0,0,1,.58,1.4,1.91,1.91,0,0,1-.58,1.4L9.25,21ZM18.45,9,17,7.55Zm-12,3A5.31,5.31,0,0,0,4.9,8.1,5.31,5.31,0,0,0,1,6.5,5.31,5.31,0,0,0,4.9,4.9,5.31,5.31,0,0,0,6.5,1,5.31,5.31,0,0,0,8.1,4.9,5.31,5.31,0,0,0,12,6.5,5.46,5.46,0,0,0,6.5,12Z\"/>\n",
              "  </svg>\n",
              "    </button>\n",
              "    <script>\n",
              "      (() => {\n",
              "      const buttonEl =\n",
              "        document.querySelector('#id_773cd9ec-c125-49b3-b77b-4cfca85ecc07 button.colab-df-generate');\n",
              "      buttonEl.style.display =\n",
              "        google.colab.kernel.accessAllowed ? 'block' : 'none';\n",
              "\n",
              "      buttonEl.onclick = () => {\n",
              "        google.colab.notebook.generateWithVariable('df');\n",
              "      }\n",
              "      })();\n",
              "    </script>\n",
              "  </div>\n",
              "\n",
              "    </div>\n",
              "  </div>\n"
            ],
            "application/vnd.google.colaboratory.intrinsic+json": {
              "type": "dataframe",
              "variable_name": "df",
              "summary": "{\n  \"name\": \"df\",\n  \"rows\": 5000,\n  \"fields\": [\n    {\n      \"column\": \"artist\",\n      \"properties\": {\n        \"dtype\": \"category\",\n        \"num_unique_values\": 611,\n        \"samples\": [\n          \"Bob Dylan\",\n          \"Sam Smith\",\n          \"Journey\"\n        ],\n        \"semantic_type\": \"\",\n        \"description\": \"\"\n      }\n    },\n    {\n      \"column\": \"song\",\n      \"properties\": {\n        \"dtype\": \"string\",\n        \"num_unique_values\": 4779,\n        \"samples\": [\n          \"Smooth Rider\",\n          \"Don't Change Your Mind About Me\",\n          \"Different Kind Of Free\"\n        ],\n        \"semantic_type\": \"\",\n        \"description\": \"\"\n      }\n    },\n    {\n      \"column\": \"text\",\n      \"properties\": {\n        \"dtype\": \"string\",\n        \"num_unique_values\": 4999,\n        \"samples\": [\n          \"It is the fire that lights itself  \\r\\nBut it burns with a restless flame  \\r\\nThe arrow on a moving target  \\r\\nThe archer must be sure of his aim  \\r\\n  \\r\\nIt is the engine that drives itself  \\r\\nBut it chooses the uphill climb  \\r\\nA bearing on magnetic north  \\r\\nGrowing farther away all the time  \\r\\nCan't stop - moving  \\r\\nCan't stop - moving  \\r\\nCan't stop  \\r\\n  \\r\\nYou may be right  \\r\\nIt's all a waste of time  \\r\\nI guess that's just a chance  \\r\\nI'm prepared to take  \\r\\nA danger I'm prepared to face  \\r\\nCut to the chase  \\r\\n  \\r\\nIt is the rocket that ignites itself  \\r\\nAnd launches its way to the stars  \\r\\nA driver on a busy freeway  \\r\\nRacing the oblivious cars  \\r\\n  \\r\\nIt's the motor of the western world  \\r\\nSpinning off to every extreme  \\r\\nPure as a lover's desire  \\r\\nEvil as a murderer's dream  \\r\\n  \\r\\nYoung enough not to care too much  \\r\\nAbout the way things used to be  \\r\\nI'm young enough to remember the future  \\r\\nThe past has no claim on me  \\r\\n  \\r\\nI'm old enough not to care too much  \\r\\nAbout what you think of me  \\r\\nBut I'm young enough to remember the future  \\r\\nAnd the way things ought to be  \\r\\n  \\r\\nWhat kind of difference  \\r\\nCan on person make?  \\r\\nCut to the chase\\r\\n\\r\\n\",\n          \"[Chorus]  \\r\\nWe spent summer dreaming, when we could be leaving,  \\r\\nI get wild and don't give a fuck, see you when the sun come up  \\r\\nI guess I'll get you in your dreams  \\r\\nI guess I'll get you in your dreams  \\r\\nI get wild and don't give a fuck, see you when the sun come up  \\r\\nI guess I'll get you in your dreams  \\r\\n  \\r\\nThe moon's around my sun, and my nights around my days  \\r\\nNocturnal creature by habit Bruce Wayne know what I mean  \\r\\nI mean I'm in between sunset and sunrise  \\r\\nAs its on type of nigga for the home invasion surprise  \\r\\nMother fucker pow-pow lay the fuck down now  \\r\\nNow no, don't try to talk your way out  \\r\\nBecause I'm usually non violent, positively vibing  \\r\\nBut every now and then you got a nigga wanna try you,  \\r\\nWhy? I don't know, I don't even understand it  \\r\\nBut it's simply overstood how you really suppose to handle it,  \\r\\nPardon me one moment I just went off on a tangent  \\r\\n  \\r\\n[Chorus]  \\r\\n  \\r\\nTypical day off in the A, aye  \\r\\nBut nicks up the Chevrolet, aye  \\r\\nNigga wanna rob okay, okay  \\r\\nWhere he stand is where he lay, aye  \\r\\nKeep looking at me with a gangsta grill,  \\r\\nI'm gonna give your ass a gangsta's pill,  \\r\\nThat's a little piece of lead, taken to the head  \\r\\nThat nigga ain't live, that nigga there dead  \\r\\nTaken dirt naps, sleeping with the fishes,  \\r\\nDone like dishes, this a wrap like Christmas  \\r\\nBig Boi, you say the word I'll make these niggas dreams a nightmare  \\r\\nI will bust there motherfucking head, ha ha ha ha ha ha  \\r\\n  \\r\\n[Chorus]  \\r\\n  \\r\\nYour ridin', killin', feelin', straight chillin',  \\r\\nI feel wild and don't give a fuck, see you when the sun come up  \\r\\n  \\r\\nWe roastin', boastin', flowin', straight coastin'  \\r\\nI feel wild and don't give a fuck, see you when the sun come up  \\r\\n  \\r\\nThat's the way a  \\r\\n  \\r\\nKeep spinnin', we grillin', bendin', straight pimpin'  \\r\\nI feel wild and don't give a fuck, see you when the sun come up (yeah)  \\r\\n  \\r\\nNow we know when, (know when), holding, (holding) showing, controlling,  \\r\\nI feel wild and don't give a fuck, see you when the sun come up (oh)  \\r\\n  \\r\\n[Chorus]  \\r\\n  \\r\\nI guess I'll get you in your dreams  \\r\\n  \\r\\nI guess I'll get you in your dreams [\\r\\n\\r\\n\",\n          \"Sweet emotion  \\r\\nSweet emotion  \\r\\n  \\r\\nYou talk about things that nobody cares  \\r\\nYou're wearing out things that nobody wears  \\r\\nYou're calling my name but I gotta make clear  \\r\\nI can't say baby where I'll be in a year  \\r\\n  \\r\\nYeah yeah yeah yeah  \\r\\n  \\r\\nWhen some sweet hog mama with a face like a gent  \\r\\nSaid my get up and go must've got up and went  \\r\\nWell I got good news, she's a real good liar  \\r\\n'Cause the backstage boogie set your pants on fire  \\r\\n  \\r\\nYeah yeah yeah yeah yeah yeah yeah yeah yeah yeah yeah yeah  \\r\\n  \\r\\nSweet emotion  \\r\\nSweet emotion  \\r\\n  \\r\\nWhen I pulled into town in a police car  \\r\\nYour daddy said I took it just a little too far  \\r\\nYou're telling me things but your girlfriend lied  \\r\\nYou can't catch me 'cause the rabbit done died  \\r\\nYes it did  \\r\\n  \\r\\nYou stand in the front just a shakin' your ass  \\r\\nI'll take you backstage, you can drink from my glass  \\r\\nYour telling me things I can sure understand  \\r\\n'Cause a month on the road an' I'll be eating from your hand\\r\\n\\r\\n\"\n        ],\n        \"semantic_type\": \"\",\n        \"description\": \"\"\n      }\n    }\n  ]\n}"
            }
          },
          "metadata": {},
          "execution_count": 53
        }
      ]
    },
    {
      "cell_type": "code",
      "source": [
        "df[\"text\"][0]"
      ],
      "metadata": {
        "colab": {
          "base_uri": "https://localhost:8080/",
          "height": 244
        },
        "id": "QudCs9VgOI-_",
        "outputId": "055e2f2c-d624-4ca6-9ad5-658ad8028b34"
      },
      "execution_count": 54,
      "outputs": [
        {
          "output_type": "execute_result",
          "data": {
            "text/plain": [
              "\"Take me on a journey  \\r\\nOn a journey to the centre of you heart  \\r\\nLet me make the journey  \\r\\nwant to journey to the centre of your heart  \\r\\nI want to go, i want to go  \\r\\nOh let me go, i want to go  \\r\\nBaby want to travel  \\r\\nwant to travel 'cross the borders of your mind  \\r\\nBaby want to travel  \\r\\nwant to travel 'cross the borders of your mind  \\r\\nI want to go, please let me go  \\r\\nI want to go, please let me go  \\r\\nTake me on a journey  \\r\\nOn a journey to the bottom of your soul  \\r\\nTake me on a journey  \\r\\nOn a journey to the bottom of your soul  \\r\\nI want to go, oh let me go  \\r\\nI want to go, oh let me go  \\r\\nBaby want to travel  \\r\\nwant to travel 'cross the borders of your mind  \\r\\nBaby want to travel  \\r\\nwant to travel 'cross the borders of your mind  \\r\\nI want to go, oh let me go  \\r\\nI want to go, oh let me go  \\r\\nTake me on a journey  \\r\\nOn a journey to the centre of your heart  \\r\\nLet me make the journey  \\r\\nwant to journey to the centre of your heart  \\r\\nI want to go, i want to go  \\r\\nOh let me go , i want to go\\r\\n\\r\\n\""
            ],
            "application/vnd.google.colaboratory.intrinsic+json": {
              "type": "string"
            }
          },
          "metadata": {},
          "execution_count": 54
        }
      ]
    },
    {
      "cell_type": "markdown",
      "source": [
        "**Text Cleaning and Preprocessing**"
      ],
      "metadata": {
        "id": "HzprvJR7PLaZ"
      }
    },
    {
      "cell_type": "code",
      "source": [
        "df['text'] = df[\"text\"].str.lower().replace(r\"^\\w\\s\", \" \").replace(r\"\\n\", \" \", regex = True)"
      ],
      "metadata": {
        "id": "KQFyt5TMOec5"
      },
      "execution_count": 55,
      "outputs": []
    },
    {
      "cell_type": "code",
      "source": [
        "import nltk\n",
        "from nltk.stem.porter import PorterStemmer"
      ],
      "metadata": {
        "id": "Lg65JXUeQTZH"
      },
      "execution_count": 56,
      "outputs": []
    },
    {
      "cell_type": "code",
      "source": [
        "stemmer = PorterStemmer()"
      ],
      "metadata": {
        "id": "ZNprnG3ZSgMD"
      },
      "execution_count": 57,
      "outputs": []
    },
    {
      "cell_type": "code",
      "source": [
        "def token(txt):\n",
        "  token = nltk.word_tokenize(txt)\n",
        "  a = [stemmer.stem(w) for w in token]\n",
        "  return \" \".join(a)"
      ],
      "metadata": {
        "id": "PiDFayRkSkuQ"
      },
      "execution_count": 58,
      "outputs": []
    },
    {
      "cell_type": "code",
      "source": [
        "token(\"you are beautiful, beauty\")"
      ],
      "metadata": {
        "colab": {
          "base_uri": "https://localhost:8080/",
          "height": 35
        },
        "id": "sP_7tONfTC_U",
        "outputId": "632cb1fb-cba1-4a71-c796-ff1525ecff9c"
      },
      "execution_count": 59,
      "outputs": [
        {
          "output_type": "execute_result",
          "data": {
            "text/plain": [
              "'you are beauti , beauti'"
            ],
            "application/vnd.google.colaboratory.intrinsic+json": {
              "type": "string"
            }
          },
          "metadata": {},
          "execution_count": 59
        }
      ]
    },
    {
      "cell_type": "code",
      "source": [
        "df[\"text\"].apply(lambda x: token(x))"
      ],
      "metadata": {
        "colab": {
          "base_uri": "https://localhost:8080/"
        },
        "id": "QWTjFGdwU0sK",
        "outputId": "5fd95e66-91e2-4781-c70a-628738b2f291"
      },
      "execution_count": 60,
      "outputs": [
        {
          "output_type": "execute_result",
          "data": {
            "text/plain": [
              "0       take me on a journey on a journey to the centr...\n",
              "1       we 're sail on a strang boat head for a strang...\n",
              "2       glamor indi rock'n'rol is what i want it 's in...\n",
              "3       i wa a man of convinct itchin ' in pure over-d...\n",
              "4       big man stand behind an open door said , leav ...\n",
              "                              ...                        \n",
              "4995    i 'm goin ' crazi tri to keep you sane takin '...\n",
              "4996    how mani time do i have to say to get away-get...\n",
              "4997    in a dream of a desol land find my feet on the...\n",
              "4998    he 's my drugstor cowboy , italian aloic , cla...\n",
              "4999    you 're the queen of your own littl world , yo...\n",
              "Name: text, Length: 5000, dtype: object"
            ]
          },
          "metadata": {},
          "execution_count": 60
        }
      ]
    },
    {
      "cell_type": "code",
      "source": [
        "from sklearn.feature_extraction.text import TfidfVectorizer\n",
        "from sklearn.metrics.pairwise import cosine_similarity"
      ],
      "metadata": {
        "id": "OaM6pMdSTOeJ"
      },
      "execution_count": 61,
      "outputs": []
    },
    {
      "cell_type": "code",
      "source": [
        "tfid = TfidfVectorizer(analyzer = \"word\", stop_words = \"english\")"
      ],
      "metadata": {
        "id": "0rE3wzYDUbcX"
      },
      "execution_count": 62,
      "outputs": []
    },
    {
      "cell_type": "code",
      "source": [
        "matrix = tfid.fit_transform(df[\"text\"])"
      ],
      "metadata": {
        "id": "QwwHsdNkVnQc"
      },
      "execution_count": 63,
      "outputs": []
    },
    {
      "cell_type": "code",
      "source": [
        "matrix"
      ],
      "metadata": {
        "colab": {
          "base_uri": "https://localhost:8080/"
        },
        "id": "jUSmaMKTV07U",
        "outputId": "2373569c-d2ed-48ad-ac61-fe6cd6c68dfe"
      },
      "execution_count": 64,
      "outputs": [
        {
          "output_type": "execute_result",
          "data": {
            "text/plain": [
              "<5000x23308 sparse matrix of type '<class 'numpy.float64'>'\n",
              "\twith 266640 stored elements in Compressed Sparse Row format>"
            ]
          },
          "metadata": {},
          "execution_count": 64
        }
      ]
    },
    {
      "cell_type": "code",
      "source": [
        "similarity = cosine_similarity(matrix)"
      ],
      "metadata": {
        "id": "MR-MrSTmV3t4"
      },
      "execution_count": 65,
      "outputs": []
    },
    {
      "cell_type": "code",
      "source": [
        "def recommender(song_name):\n",
        "  idx = df[df[\"song\"] == song_name].index[0]\n",
        "  distance = sorted(list(enumerate(similarity[idx])), reverse = True, key = lambda x:x[1])\n",
        "  song = []\n",
        "  for s_id in distance[1:5]:\n",
        "    song.append(df.iloc[s_id[0]].song)\n",
        "    return song"
      ],
      "metadata": {
        "id": "gYZBz63IWj2I"
      },
      "execution_count": 66,
      "outputs": []
    },
    {
      "cell_type": "code",
      "source": [
        "recommender(\"In Your Eyes\")"
      ],
      "metadata": {
        "colab": {
          "base_uri": "https://localhost:8080/"
        },
        "id": "MFqxVa2wat8C",
        "outputId": "7d6946e3-a358-4ed3-d6d8-8443d4e38502"
      },
      "execution_count": 68,
      "outputs": [
        {
          "output_type": "execute_result",
          "data": {
            "text/plain": [
              "['Keep Coming Back']"
            ]
          },
          "metadata": {},
          "execution_count": 68
        }
      ]
    },
    {
      "cell_type": "code",
      "source": [
        "import pickle"
      ],
      "metadata": {
        "id": "Ho25tcDsb-SP"
      },
      "execution_count": 69,
      "outputs": []
    },
    {
      "cell_type": "code",
      "source": [
        "pickle.dump(similarity, open(\"similarity\", \"wb\"))"
      ],
      "metadata": {
        "id": "U_BSEX2Ecl_2"
      },
      "execution_count": 70,
      "outputs": []
    },
    {
      "cell_type": "code",
      "source": [
        "pickle.dump(df, open(\"df\", \"wb\"))"
      ],
      "metadata": {
        "id": "OodMXCupc1cW"
      },
      "execution_count": 71,
      "outputs": []
    },
    {
      "cell_type": "code",
      "source": [],
      "metadata": {
        "id": "FTzPwPcJdPMs"
      },
      "execution_count": null,
      "outputs": []
    }
  ]
}